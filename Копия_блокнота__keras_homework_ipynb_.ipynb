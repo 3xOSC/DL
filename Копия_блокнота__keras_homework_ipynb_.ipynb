{
  "nbformat": 4,
  "nbformat_minor": 0,
  "metadata": {
    "colab": {
      "name": "Копия блокнота \"keras_homework.ipynb\"",
      "provenance": [],
      "collapsed_sections": []
    },
    "kernelspec": {
      "name": "python3",
      "display_name": "Python 3"
    },
    "accelerator": "GPU"
  },
  "cells": [
    {
      "cell_type": "markdown",
      "metadata": {
        "id": "Qx7gD5SOa0oT"
      },
      "source": [
        "# Домашнее задание\n",
        "\n",
        "В этом домашнем задании вам предстоит обучить модель классификации рукописных цифр на Tensorflow.\n",
        "\n",
        "Важным дополненительным требованием будет сохранение чекпоинтов на ваш гугл диск (не переживайте ниже будут подсказки как это сделать). Это пригодится вам в дальнейшем при обучении более сложных моделей, на случай потери данных при неожиданном отключении Colab."
      ]
    },
    {
      "cell_type": "code",
      "metadata": {
        "id": "tRPzy1zPDyYD",
        "colab": {
          "base_uri": "https://localhost:8080/"
        },
        "outputId": "1b4f6312-b9cf-4082-894a-d57d10bba54e"
      },
      "source": [
        "import tensorflow as tf\n",
        "print(tf.__version__)\n",
        "from google.colab import drive\n",
        "c\n",
        "import matplotlib.pyplot as plt\n",
        "import numpy as np"
      ],
      "execution_count": null,
      "outputs": [
        {
          "output_type": "stream",
          "text": [
            "2.4.1\n"
          ],
          "name": "stdout"
        }
      ]
    },
    {
      "cell_type": "markdown",
      "metadata": {
        "id": "8oA_nuENcFnQ"
      },
      "source": [
        "####Вспомогательный код"
      ]
    },
    {
      "cell_type": "code",
      "metadata": {
        "id": "dFjoXlmJYyJJ"
      },
      "source": [
        "#@title \n",
        "def show_mnist(images, labels, predicted_labels=None):\n",
        "    plt.figure(figsize=(10,10))\n",
        "    for i in range(16):\n",
        "        plt.subplot(4,4, i+1)\n",
        "        plt.xticks([])\n",
        "        plt.yticks([])\n",
        "        plt.grid(False)\n",
        "        plt.imshow(images[i], cmap=plt.cm.gray)\n",
        "        if predicted_labels is not None:\n",
        "            title_obj = plt.title(f\"Real: {labels[i]}. Pred: {predicted_labels[i]}\")\n",
        "            if labels[i] != predicted_labels[i]:\n",
        "                plt.setp(title_obj, color='r')\n",
        "        else:\n",
        "            plt.title(f\"Real label: {labels[i]}\")\n",
        "\n",
        "def show_progress(history: dict):\n",
        "    plt.figure(figsize=(10, 5))\n",
        "    ax1 = plt.subplot(1,2,1)    \n",
        "    plt.plot(history[\"accuracy\"],label='train accuracy')\n",
        "    plt.plot(history[\"val_accuracy\"], label='test accuracy')\n",
        "    ax2 = plt.subplot(1,2,2)\n",
        "    plt.plot(history[\"loss\"],label='train_loss')\n",
        "    plt.plot(history[\"val_loss\"],label='test_loss')\n",
        "    \n",
        "    ax1.legend(loc='best')\n",
        "    ax2.legend(loc='best')\n",
        "    plt.grid()\n",
        "    plt.tight_layout()\n",
        "    plt.show()"
      ],
      "execution_count": null,
      "outputs": []
    },
    {
      "cell_type": "markdown",
      "metadata": {
        "id": "nL_nICZ4cMOx"
      },
      "source": [
        "## Загрузка данных"
      ]
    },
    {
      "cell_type": "code",
      "metadata": {
        "id": "AcMON-_rWqdK",
        "colab": {
          "base_uri": "https://localhost:8080/",
          "height": 628
        },
        "outputId": "0c9b743f-a0ef-4f0c-f09b-d1b2cabdc2f3"
      },
      "source": [
        "(x_train, y_train),(x_test, y_test) = tf.keras.datasets.mnist.load_data()\n",
        "x_train, x_test = x_train / 255.0, x_test / 255.0\n",
        "\n",
        "show_mnist(x_train, y_train)\n",
        "x_train = x_train.reshape((-1, 28*28)) # вытянули каждую картинку в вектор\n",
        "x_test = x_test.reshape((-1, 28*28))\n"
      ],
      "execution_count": null,
      "outputs": [
        {
          "output_type": "stream",
          "text": [
            "Downloading data from https://storage.googleapis.com/tensorflow/tf-keras-datasets/mnist.npz\n",
            "11493376/11490434 [==============================] - 0s 0us/step\n"
          ],
          "name": "stdout"
        },
        {
          "output_type": "display_data",
          "data": {
            "image/png": "[encoded data removed]",
            "text/plain": [
              "<Figure size 720x720 with 16 Axes>"
            ]
          },
          "metadata": {
            "tags": []
          }
        }
      ]
    },
    {
      "cell_type": "code",
      "metadata": {
        "id": "ELY-ZCBQYyUF",
        "colab": {
          "base_uri": "https://localhost:8080/"
        },
        "outputId": "dec2f307-11fb-498f-a087-603da2aff132"
      },
      "source": [
        "y_train"
      ],
      "execution_count": null,
      "outputs": [
        {
          "output_type": "execute_result",
          "data": {
            "text/plain": [
              "array([5, 0, 4, ..., 5, 6, 8], dtype=uint8)"
            ]
          },
          "metadata": {
            "tags": []
          },
          "execution_count": 4
        }
      ]
    },
    {
      "cell_type": "code",
      "metadata": {
        "id": "D9_g86msEud4",
        "colab": {
          "base_uri": "https://localhost:8080/",
          "height": 527
        },
        "outputId": "0fc3fb6e-84b5-4eda-ea53-ab52f1f62352"
      },
      "source": [
        "# прикрепим ваш гугл диск к виртуальной машине\n",
        "drive.mount('/content/drive/')"
      ],
      "execution_count": null,
      "outputs": [
        {
          "output_type": "error",
          "ename": "KeyboardInterrupt",
          "evalue": "ignored",
          "traceback": [
            "\u001b[0;31m---------------------------------------------------------------------------\u001b[0m",
            "\u001b[0;31mKeyboardInterrupt\u001b[0m                         Traceback (most recent call last)",
            "\u001b[0;32m/usr/local/lib/python3.7/dist-packages/ipykernel/kernelbase.py\u001b[0m in \u001b[0;36m_input_request\u001b[0;34m(self, prompt, ident, parent, password)\u001b[0m\n\u001b[1;32m    728\u001b[0m             \u001b[0;32mtry\u001b[0m\u001b[0;34m:\u001b[0m\u001b[0;34m\u001b[0m\u001b[0;34m\u001b[0m\u001b[0m\n\u001b[0;32m--> 729\u001b[0;31m                 \u001b[0mident\u001b[0m\u001b[0;34m,\u001b[0m \u001b[0mreply\u001b[0m \u001b[0;34m=\u001b[0m \u001b[0mself\u001b[0m\u001b[0;34m.\u001b[0m\u001b[0msession\u001b[0m\u001b[0;34m.\u001b[0m\u001b[0mrecv\u001b[0m\u001b[0;34m(\u001b[0m\u001b[0mself\u001b[0m\u001b[0;34m.\u001b[0m\u001b[0mstdin_socket\u001b[0m\u001b[0;34m,\u001b[0m \u001b[0;36m0\u001b[0m\u001b[0;34m)\u001b[0m\u001b[0;34m\u001b[0m\u001b[0;34m\u001b[0m\u001b[0m\n\u001b[0m\u001b[1;32m    730\u001b[0m             \u001b[0;32mexcept\u001b[0m \u001b[0mException\u001b[0m\u001b[0;34m:\u001b[0m\u001b[0;34m\u001b[0m\u001b[0;34m\u001b[0m\u001b[0m\n",
            "\u001b[0;32m/usr/local/lib/python3.7/dist-packages/jupyter_client/session.py\u001b[0m in \u001b[0;36mrecv\u001b[0;34m(self, socket, mode, content, copy)\u001b[0m\n\u001b[1;32m    802\u001b[0m         \u001b[0;32mtry\u001b[0m\u001b[0;34m:\u001b[0m\u001b[0;34m\u001b[0m\u001b[0;34m\u001b[0m\u001b[0m\n\u001b[0;32m--> 803\u001b[0;31m             \u001b[0mmsg_list\u001b[0m \u001b[0;34m=\u001b[0m \u001b[0msocket\u001b[0m\u001b[0;34m.\u001b[0m\u001b[0mrecv_multipart\u001b[0m\u001b[0;34m(\u001b[0m\u001b[0mmode\u001b[0m\u001b[0;34m,\u001b[0m \u001b[0mcopy\u001b[0m\u001b[0;34m=\u001b[0m\u001b[0mcopy\u001b[0m\u001b[0;34m)\u001b[0m\u001b[0;34m\u001b[0m\u001b[0;34m\u001b[0m\u001b[0m\n\u001b[0m\u001b[1;32m    804\u001b[0m         \u001b[0;32mexcept\u001b[0m \u001b[0mzmq\u001b[0m\u001b[0;34m.\u001b[0m\u001b[0mZMQError\u001b[0m \u001b[0;32mas\u001b[0m \u001b[0me\u001b[0m\u001b[0;34m:\u001b[0m\u001b[0;34m\u001b[0m\u001b[0;34m\u001b[0m\u001b[0m\n",
            "\u001b[0;32m/usr/local/lib/python3.7/dist-packages/zmq/sugar/socket.py\u001b[0m in \u001b[0;36mrecv_multipart\u001b[0;34m(self, flags, copy, track)\u001b[0m\n\u001b[1;32m    582\u001b[0m         \"\"\"\n\u001b[0;32m--> 583\u001b[0;31m         \u001b[0mparts\u001b[0m \u001b[0;34m=\u001b[0m \u001b[0;34m[\u001b[0m\u001b[0mself\u001b[0m\u001b[0;34m.\u001b[0m\u001b[0mrecv\u001b[0m\u001b[0;34m(\u001b[0m\u001b[0mflags\u001b[0m\u001b[0;34m,\u001b[0m \u001b[0mcopy\u001b[0m\u001b[0;34m=\u001b[0m\u001b[0mcopy\u001b[0m\u001b[0;34m,\u001b[0m \u001b[0mtrack\u001b[0m\u001b[0;34m=\u001b[0m\u001b[0mtrack\u001b[0m\u001b[0;34m)\u001b[0m\u001b[0;34m]\u001b[0m\u001b[0;34m\u001b[0m\u001b[0;34m\u001b[0m\u001b[0m\n\u001b[0m\u001b[1;32m    584\u001b[0m         \u001b[0;31m# have first part already, only loop while more to receive\u001b[0m\u001b[0;34m\u001b[0m\u001b[0;34m\u001b[0m\u001b[0;34m\u001b[0m\u001b[0m\n",
            "\u001b[0;32mzmq/backend/cython/socket.pyx\u001b[0m in \u001b[0;36mzmq.backend.cython.socket.Socket.recv\u001b[0;34m()\u001b[0m\n",
            "\u001b[0;32mzmq/backend/cython/socket.pyx\u001b[0m in \u001b[0;36mzmq.backend.cython.socket.Socket.recv\u001b[0;34m()\u001b[0m\n",
            "\u001b[0;32mzmq/backend/cython/socket.pyx\u001b[0m in \u001b[0;36mzmq.backend.cython.socket._recv_copy\u001b[0;34m()\u001b[0m\n",
            "\u001b[0;32m/usr/local/lib/python3.7/dist-packages/zmq/backend/cython/checkrc.pxd\u001b[0m in \u001b[0;36mzmq.backend.cython.checkrc._check_rc\u001b[0;34m()\u001b[0m\n",
            "\u001b[0;31mKeyboardInterrupt\u001b[0m: ",
            "\nDuring handling of the above exception, another exception occurred:\n",
            "\u001b[0;31mKeyboardInterrupt\u001b[0m                         Traceback (most recent call last)",
            "\u001b[0;32m<ipython-input-5-3a74c53f10fc>\u001b[0m in \u001b[0;36m<module>\u001b[0;34m()\u001b[0m\n\u001b[1;32m      1\u001b[0m \u001b[0;31m# прикрепим ваш гугл диск к виртуальной машине\u001b[0m\u001b[0;34m\u001b[0m\u001b[0;34m\u001b[0m\u001b[0;34m\u001b[0m\u001b[0m\n\u001b[0;32m----> 2\u001b[0;31m \u001b[0mdrive\u001b[0m\u001b[0;34m.\u001b[0m\u001b[0mmount\u001b[0m\u001b[0;34m(\u001b[0m\u001b[0;34m'/content/drive/'\u001b[0m\u001b[0;34m)\u001b[0m\u001b[0;34m\u001b[0m\u001b[0;34m\u001b[0m\u001b[0m\n\u001b[0m",
            "\u001b[0;32m/usr/local/lib/python3.7/dist-packages/google/colab/drive.py\u001b[0m in \u001b[0;36mmount\u001b[0;34m(mountpoint, force_remount, timeout_ms, use_metadata_server)\u001b[0m\n\u001b[1;32m    260\u001b[0m       \u001b[0;32mwith\u001b[0m \u001b[0m_output\u001b[0m\u001b[0;34m.\u001b[0m\u001b[0muse_tags\u001b[0m\u001b[0;34m(\u001b[0m\u001b[0;34m'dfs-auth-dance'\u001b[0m\u001b[0;34m)\u001b[0m\u001b[0;34m:\u001b[0m\u001b[0;34m\u001b[0m\u001b[0;34m\u001b[0m\u001b[0m\n\u001b[1;32m    261\u001b[0m         \u001b[0;32mwith\u001b[0m \u001b[0mopen\u001b[0m\u001b[0;34m(\u001b[0m\u001b[0mfifo\u001b[0m\u001b[0;34m,\u001b[0m \u001b[0;34m'w'\u001b[0m\u001b[0;34m)\u001b[0m \u001b[0;32mas\u001b[0m \u001b[0mfifo_file\u001b[0m\u001b[0;34m:\u001b[0m\u001b[0;34m\u001b[0m\u001b[0;34m\u001b[0m\u001b[0m\n\u001b[0;32m--> 262\u001b[0;31m           \u001b[0mfifo_file\u001b[0m\u001b[0;34m.\u001b[0m\u001b[0mwrite\u001b[0m\u001b[0;34m(\u001b[0m\u001b[0mget_code\u001b[0m\u001b[0;34m(\u001b[0m\u001b[0mauth_prompt\u001b[0m\u001b[0;34m)\u001b[0m \u001b[0;34m+\u001b[0m \u001b[0;34m'\\n'\u001b[0m\u001b[0;34m)\u001b[0m\u001b[0;34m\u001b[0m\u001b[0;34m\u001b[0m\u001b[0m\n\u001b[0m\u001b[1;32m    263\u001b[0m       \u001b[0mwrote_to_fifo\u001b[0m \u001b[0;34m=\u001b[0m \u001b[0;32mTrue\u001b[0m\u001b[0;34m\u001b[0m\u001b[0;34m\u001b[0m\u001b[0m\n\u001b[1;32m    264\u001b[0m     \u001b[0;32melif\u001b[0m \u001b[0mcase\u001b[0m \u001b[0;34m==\u001b[0m \u001b[0;36m5\u001b[0m\u001b[0;34m:\u001b[0m\u001b[0;34m\u001b[0m\u001b[0;34m\u001b[0m\u001b[0m\n",
            "\u001b[0;32m/usr/local/lib/python3.7/dist-packages/ipykernel/kernelbase.py\u001b[0m in \u001b[0;36mraw_input\u001b[0;34m(self, prompt)\u001b[0m\n\u001b[1;32m    702\u001b[0m             \u001b[0mself\u001b[0m\u001b[0;34m.\u001b[0m\u001b[0m_parent_ident\u001b[0m\u001b[0;34m,\u001b[0m\u001b[0;34m\u001b[0m\u001b[0;34m\u001b[0m\u001b[0m\n\u001b[1;32m    703\u001b[0m             \u001b[0mself\u001b[0m\u001b[0;34m.\u001b[0m\u001b[0m_parent_header\u001b[0m\u001b[0;34m,\u001b[0m\u001b[0;34m\u001b[0m\u001b[0;34m\u001b[0m\u001b[0m\n\u001b[0;32m--> 704\u001b[0;31m             \u001b[0mpassword\u001b[0m\u001b[0;34m=\u001b[0m\u001b[0;32mFalse\u001b[0m\u001b[0;34m,\u001b[0m\u001b[0;34m\u001b[0m\u001b[0;34m\u001b[0m\u001b[0m\n\u001b[0m\u001b[1;32m    705\u001b[0m         )\n\u001b[1;32m    706\u001b[0m \u001b[0;34m\u001b[0m\u001b[0m\n",
            "\u001b[0;32m/usr/local/lib/python3.7/dist-packages/ipykernel/kernelbase.py\u001b[0m in \u001b[0;36m_input_request\u001b[0;34m(self, prompt, ident, parent, password)\u001b[0m\n\u001b[1;32m    732\u001b[0m             \u001b[0;32mexcept\u001b[0m \u001b[0mKeyboardInterrupt\u001b[0m\u001b[0;34m:\u001b[0m\u001b[0;34m\u001b[0m\u001b[0;34m\u001b[0m\u001b[0m\n\u001b[1;32m    733\u001b[0m                 \u001b[0;31m# re-raise KeyboardInterrupt, to truncate traceback\u001b[0m\u001b[0;34m\u001b[0m\u001b[0;34m\u001b[0m\u001b[0;34m\u001b[0m\u001b[0m\n\u001b[0;32m--> 734\u001b[0;31m                 \u001b[0;32mraise\u001b[0m \u001b[0mKeyboardInterrupt\u001b[0m\u001b[0;34m\u001b[0m\u001b[0;34m\u001b[0m\u001b[0m\n\u001b[0m\u001b[1;32m    735\u001b[0m             \u001b[0;32melse\u001b[0m\u001b[0;34m:\u001b[0m\u001b[0;34m\u001b[0m\u001b[0;34m\u001b[0m\u001b[0m\n\u001b[1;32m    736\u001b[0m                 \u001b[0;32mbreak\u001b[0m\u001b[0;34m\u001b[0m\u001b[0;34m\u001b[0m\u001b[0m\n",
            "\u001b[0;31mKeyboardInterrupt\u001b[0m: "
          ]
        }
      ]
    },
    {
      "cell_type": "code",
      "metadata": {
        "id": "0yVUAhqPVVet"
      },
      "source": [
        "# Путь до вашего гугл диска скорее всего выглядит так: /content/drive/My Drive/\n",
        "# если эта клетка вызывает ошибку, \n",
        "# измените путь согласно ! ls \"/content/drive/\"\n",
        "\n",
        "path = Path(\"/content/drive/MyDrive/Skillbox/model_1\")\n",
        "path.mkdir(exist_ok=True, parents=True) # папка создается на вашем гугл диске. вместе с \"родителями\"\n",
        "assert path.exists()\n",
        "cpt_filename = \"best_checkpoint.hdf5\"  \n",
        "cpt_path =str(path / cpt_filename)\n",
        "# После выполнения этой клетки, в вашем гугл диске должна создаться папка: Skillbox/model_1\n",
        "# убедитесь в этом"
      ],
      "execution_count": null,
      "outputs": []
    },
    {
      "cell_type": "markdown",
      "metadata": {
        "id": "L1RVxtPzgr_g"
      },
      "source": [
        "А весь код ниже вы реализуете самостоятельно! Вы уже к этому готовы :)\n",
        "Требования к модели:\n",
        "1. Точность на тестовой части выборки >96%\n",
        "2. Чекпоинт модели с лучшими параметрами должен быть сохранен у вас на гугл диске\n",
        "3. Объект history, который получается из model.fit(...) должен содержать значения лосса и accuracy для трейна и теста"
      ]
    },
    {
      "cell_type": "code",
      "metadata": {
        "id": "oAHxE8wpEKD5",
        "colab": {
          "base_uri": "https://localhost:8080/"
        },
        "outputId": "30562571-9c28-4b73-e060-b85dfd8daf92"
      },
      "source": [
        "# < YOUR CODE STARTS HERE >\n",
        "\n",
        "checkpoint = tf.keras.callbacks.ModelCheckpoint(cpt_path, monitor='val_loss', verbose=0, save_best_only=True, mode='min')\n",
        "\n",
        "# from keras.utils import np_utils   \n",
        "# nb_classes = 10\n",
        "# Y_train = np_utils.to_categorical(y_train, nb_classes)\n",
        "# Y_test = np_utils.to_categorical(y_test, nb_classes)\n",
        "# pd.get_dummies\n",
        "import pandas as pd\n",
        "Y_train = pd.get_dummies(y_train)\n",
        "Y_test = pd.get_dummies(y_test)\n",
        "\n",
        "model = tf.keras.Sequential()\n",
        "model.add(tf.keras.layers.Dense(512, input_shape=(784,), activation='relu'))\n",
        "model.add(tf.keras.layers.Dense(256, activation='relu'))\n",
        "model.add(tf.keras.layers.Dense(10, activation='softmax'))\n",
        "\n",
        "\n",
        "\n",
        "# <YOUR CODE ENDS HERE>\n",
        "\n",
        "# model = tf.keras.Sequential()\n",
        "# model.add(tf.keras.layers.Dense(512, input_shape=(784,), activation='relu'))\n",
        "# model.add(tf.keras.layers.Dropout(0.2))\n",
        "# model.add(tf.keras.layers.Dense(256, activation='relu'))\n",
        "# model.add(tf.keras.layers.Dropout(0.2))\n",
        "# model.add(tf.keras.layers.Dense(1))\n",
        "\n",
        "# <YOUR CODE ENDS HERE >\n",
        "\n",
        "model.summary()\n",
        "model.compile(optimizer='adam', loss='categorical_crossentropy', metrics=['accuracy'])\n",
        "history = model.fit(x_train, Y_train, validation_data=(x_test, Y_test), epochs=50, batch_size=256, verbose=1, callbacks=[checkpoint])\n",
        "# < YOUR CODE ENDS HERE >"
      ],
      "execution_count": null,
      "outputs": [
        {
          "output_type": "stream",
          "text": [
            "Model: \"sequential\"\n",
            "_________________________________________________________________\n",
            "Layer (type)                 Output Shape              Param #   \n",
            "=================================================================\n",
            "dense (Dense)                (None, 512)               401920    \n",
            "_________________________________________________________________\n",
            "dense_1 (Dense)              (None, 256)               131328    \n",
            "_________________________________________________________________\n",
            "dense_2 (Dense)              (None, 10)                2570      \n",
            "=================================================================\n",
            "Total params: 535,818\n",
            "Trainable params: 535,818\n",
            "Non-trainable params: 0\n",
            "_________________________________________________________________\n",
            "Epoch 1/50\n",
            "235/235 [==============================] - 4s 4ms/step - loss: 0.5051 - accuracy: 0.8587 - val_loss: 0.1136 - val_accuracy: 0.9645\n",
            "Epoch 2/50\n",
            "235/235 [==============================] - 1s 3ms/step - loss: 0.0995 - accuracy: 0.9718 - val_loss: 0.0875 - val_accuracy: 0.9717\n",
            "Epoch 3/50\n",
            "235/235 [==============================] - 1s 3ms/step - loss: 0.0656 - accuracy: 0.9801 - val_loss: 0.0709 - val_accuracy: 0.9783\n",
            "Epoch 4/50\n",
            "235/235 [==============================] - 1s 3ms/step - loss: 0.0412 - accuracy: 0.9868 - val_loss: 0.0671 - val_accuracy: 0.9768\n",
            "Epoch 5/50\n",
            "235/235 [==============================] - 1s 3ms/step - loss: 0.0282 - accuracy: 0.9913 - val_loss: 0.0647 - val_accuracy: 0.9789\n",
            "Epoch 6/50\n",
            "235/235 [==============================] - 1s 3ms/step - loss: 0.0201 - accuracy: 0.9940 - val_loss: 0.0632 - val_accuracy: 0.9812\n",
            "Epoch 7/50\n",
            "235/235 [==============================] - 1s 3ms/step - loss: 0.0175 - accuracy: 0.9949 - val_loss: 0.0681 - val_accuracy: 0.9802\n",
            "Epoch 8/50\n",
            "235/235 [==============================] - 1s 3ms/step - loss: 0.0113 - accuracy: 0.9966 - val_loss: 0.0656 - val_accuracy: 0.9817\n",
            "Epoch 9/50\n",
            "235/235 [==============================] - 1s 3ms/step - loss: 0.0071 - accuracy: 0.9982 - val_loss: 0.0746 - val_accuracy: 0.9794\n",
            "Epoch 10/50\n",
            "235/235 [==============================] - 1s 3ms/step - loss: 0.0098 - accuracy: 0.9968 - val_loss: 0.0764 - val_accuracy: 0.9785\n",
            "Epoch 11/50\n",
            "235/235 [==============================] - 1s 3ms/step - loss: 0.0086 - accuracy: 0.9971 - val_loss: 0.0774 - val_accuracy: 0.9809\n",
            "Epoch 12/50\n",
            "235/235 [==============================] - 1s 3ms/step - loss: 0.0136 - accuracy: 0.9949 - val_loss: 0.0759 - val_accuracy: 0.9810\n",
            "Epoch 13/50\n",
            "235/235 [==============================] - 1s 3ms/step - loss: 0.0070 - accuracy: 0.9977 - val_loss: 0.0852 - val_accuracy: 0.9790\n",
            "Epoch 14/50\n",
            "235/235 [==============================] - 1s 3ms/step - loss: 0.0048 - accuracy: 0.9985 - val_loss: 0.1159 - val_accuracy: 0.9753\n",
            "Epoch 15/50\n",
            "235/235 [==============================] - 1s 3ms/step - loss: 0.0146 - accuracy: 0.9953 - val_loss: 0.0950 - val_accuracy: 0.9778\n",
            "Epoch 16/50\n",
            "235/235 [==============================] - 1s 3ms/step - loss: 0.0098 - accuracy: 0.9970 - val_loss: 0.0909 - val_accuracy: 0.9780\n",
            "Epoch 17/50\n",
            "235/235 [==============================] - 1s 3ms/step - loss: 0.0070 - accuracy: 0.9975 - val_loss: 0.0871 - val_accuracy: 0.9814\n",
            "Epoch 18/50\n",
            "235/235 [==============================] - 1s 3ms/step - loss: 0.0058 - accuracy: 0.9982 - val_loss: 0.0914 - val_accuracy: 0.9799\n",
            "Epoch 19/50\n",
            "235/235 [==============================] - 1s 3ms/step - loss: 0.0078 - accuracy: 0.9974 - val_loss: 0.0796 - val_accuracy: 0.9829\n",
            "Epoch 20/50\n",
            "235/235 [==============================] - 1s 3ms/step - loss: 0.0012 - accuracy: 0.9997 - val_loss: 0.0769 - val_accuracy: 0.9839\n",
            "Epoch 21/50\n",
            "235/235 [==============================] - 1s 3ms/step - loss: 2.4947e-04 - accuracy: 1.0000 - val_loss: 0.0772 - val_accuracy: 0.9850\n",
            "Epoch 22/50\n",
            "235/235 [==============================] - 1s 3ms/step - loss: 9.0418e-05 - accuracy: 1.0000 - val_loss: 0.0754 - val_accuracy: 0.9847\n",
            "Epoch 23/50\n",
            "235/235 [==============================] - 1s 3ms/step - loss: 5.4777e-05 - accuracy: 1.0000 - val_loss: 0.0763 - val_accuracy: 0.9850\n",
            "Epoch 24/50\n",
            "235/235 [==============================] - 1s 3ms/step - loss: 4.1748e-05 - accuracy: 1.0000 - val_loss: 0.0766 - val_accuracy: 0.9847\n",
            "Epoch 25/50\n",
            "235/235 [==============================] - 1s 3ms/step - loss: 3.2560e-05 - accuracy: 1.0000 - val_loss: 0.0773 - val_accuracy: 0.9851\n",
            "Epoch 26/50\n",
            "235/235 [==============================] - 1s 3ms/step - loss: 3.0810e-05 - accuracy: 1.0000 - val_loss: 0.0778 - val_accuracy: 0.9848\n",
            "Epoch 27/50\n",
            "235/235 [==============================] - 1s 3ms/step - loss: 2.5787e-05 - accuracy: 1.0000 - val_loss: 0.0785 - val_accuracy: 0.9850\n",
            "Epoch 28/50\n",
            "235/235 [==============================] - 1s 3ms/step - loss: 2.3970e-05 - accuracy: 1.0000 - val_loss: 0.0789 - val_accuracy: 0.9849\n",
            "Epoch 29/50\n",
            "235/235 [==============================] - 1s 3ms/step - loss: 2.0128e-05 - accuracy: 1.0000 - val_loss: 0.0796 - val_accuracy: 0.9848\n",
            "Epoch 30/50\n",
            "235/235 [==============================] - 1s 3ms/step - loss: 1.8674e-05 - accuracy: 1.0000 - val_loss: 0.0802 - val_accuracy: 0.9848\n",
            "Epoch 31/50\n",
            "235/235 [==============================] - 1s 3ms/step - loss: 1.6289e-05 - accuracy: 1.0000 - val_loss: 0.0807 - val_accuracy: 0.9848\n",
            "Epoch 32/50\n",
            "235/235 [==============================] - 1s 3ms/step - loss: 1.3930e-05 - accuracy: 1.0000 - val_loss: 0.0811 - val_accuracy: 0.9849\n",
            "Epoch 33/50\n",
            "235/235 [==============================] - 1s 3ms/step - loss: 1.2667e-05 - accuracy: 1.0000 - val_loss: 0.0818 - val_accuracy: 0.9848\n",
            "Epoch 34/50\n",
            "235/235 [==============================] - 1s 3ms/step - loss: 1.1921e-05 - accuracy: 1.0000 - val_loss: 0.0820 - val_accuracy: 0.9850\n",
            "Epoch 35/50\n",
            "235/235 [==============================] - 1s 3ms/step - loss: 1.0694e-05 - accuracy: 1.0000 - val_loss: 0.0828 - val_accuracy: 0.9849\n",
            "Epoch 36/50\n",
            "235/235 [==============================] - 1s 3ms/step - loss: 9.1795e-06 - accuracy: 1.0000 - val_loss: 0.0834 - val_accuracy: 0.9848\n",
            "Epoch 37/50\n",
            "235/235 [==============================] - 1s 3ms/step - loss: 7.8638e-06 - accuracy: 1.0000 - val_loss: 0.0842 - val_accuracy: 0.9848\n",
            "Epoch 38/50\n",
            "235/235 [==============================] - 1s 3ms/step - loss: 7.1672e-06 - accuracy: 1.0000 - val_loss: 0.0848 - val_accuracy: 0.9852\n",
            "Epoch 39/50\n",
            "235/235 [==============================] - 1s 3ms/step - loss: 7.0870e-06 - accuracy: 1.0000 - val_loss: 0.0858 - val_accuracy: 0.9852\n",
            "Epoch 40/50\n",
            "235/235 [==============================] - 1s 3ms/step - loss: 6.0677e-06 - accuracy: 1.0000 - val_loss: 0.0859 - val_accuracy: 0.9850\n",
            "Epoch 41/50\n",
            "235/235 [==============================] - 1s 3ms/step - loss: 5.6056e-06 - accuracy: 1.0000 - val_loss: 0.0866 - val_accuracy: 0.9851\n",
            "Epoch 42/50\n",
            "235/235 [==============================] - 1s 3ms/step - loss: 4.9032e-06 - accuracy: 1.0000 - val_loss: 0.0872 - val_accuracy: 0.9848\n",
            "Epoch 43/50\n",
            "235/235 [==============================] - 1s 3ms/step - loss: 4.4272e-06 - accuracy: 1.0000 - val_loss: 0.0878 - val_accuracy: 0.9850\n",
            "Epoch 44/50\n",
            "235/235 [==============================] - 1s 3ms/step - loss: 3.9045e-06 - accuracy: 1.0000 - val_loss: 0.0889 - val_accuracy: 0.9850\n",
            "Epoch 45/50\n",
            "235/235 [==============================] - 1s 3ms/step - loss: 3.4433e-06 - accuracy: 1.0000 - val_loss: 0.0895 - val_accuracy: 0.9850\n",
            "Epoch 46/50\n",
            "235/235 [==============================] - 1s 3ms/step - loss: 3.1669e-06 - accuracy: 1.0000 - val_loss: 0.0898 - val_accuracy: 0.9848\n",
            "Epoch 47/50\n",
            "235/235 [==============================] - 1s 3ms/step - loss: 2.7991e-06 - accuracy: 1.0000 - val_loss: 0.0908 - val_accuracy: 0.9848\n",
            "Epoch 48/50\n",
            "235/235 [==============================] - 1s 3ms/step - loss: 2.6330e-06 - accuracy: 1.0000 - val_loss: 0.0916 - val_accuracy: 0.9848\n",
            "Epoch 49/50\n",
            "235/235 [==============================] - 1s 3ms/step - loss: 2.3053e-06 - accuracy: 1.0000 - val_loss: 0.0918 - val_accuracy: 0.9849\n",
            "Epoch 50/50\n",
            "235/235 [==============================] - 1s 3ms/step - loss: 1.9789e-06 - accuracy: 1.0000 - val_loss: 0.0926 - val_accuracy: 0.9848\n"
          ],
          "name": "stdout"
        }
      ]
    },
    {
      "cell_type": "code",
      "metadata": {
        "id": "iPntu18cW1CR",
        "colab": {
          "base_uri": "https://localhost:8080/"
        },
        "outputId": "61fda20b-b48a-4ad1-c67e-fd7df51aff6d"
      },
      "source": [
        "assert len(list(path.glob(\"*\"))) != 0, f\"Checkpoint dir {path}\"\n",
        "assert \"accuracy\" in history.history, \"History object must contain Accuracy. Please, retrain with this metric\"\n",
        "assert \"val_accuracy\" in history.history, \"Please, provide validation_data in model.fit.\"\n",
        "assert np.max(history.history[\"val_accuracy\"]) > 0.95, \"Validation accuracy must be more than 0.95\"\n",
        "# Для старой версии (tf.__version__ == 1.x) запустить aseert-ы ниже:\n",
        "# assert \"acc\" in history.history, \"History object must contain Accuracy. Please, retrain with this metric\"\n",
        "# assert \"val_acc\" in history.history, \"Please, provide validation_data in model.fit.\"\n",
        "# assert np.max(history.history[\"val_acc\"]) > 0.95, \"Validation accuracy must be more than 0.95\"\n",
        "print(\"Training tests passed\")"
      ],
      "execution_count": null,
      "outputs": [
        {
          "output_type": "stream",
          "text": [
            "Training tests passed\n"
          ],
          "name": "stdout"
        }
      ]
    },
    {
      "cell_type": "markdown",
      "metadata": {
        "id": "3F8zo0Milj4c"
      },
      "source": [
        "Давайте посмотрим на графики обучения:"
      ]
    },
    {
      "cell_type": "code",
      "metadata": {
        "id": "nGOrpkkAX8o5",
        "colab": {
          "base_uri": "https://localhost:8080/",
          "height": 369
        },
        "outputId": "db9cdb45-7cd3-4c79-cd22-c58bd9419400"
      },
      "source": [
        "show_progress(history.history)"
      ],
      "execution_count": null,
      "outputs": [
        {
          "output_type": "display_data",
          "data": {
            "image/png": "[encoded data removed]",
            "text/plain": [
              "<Figure size 720x360 with 2 Axes>"
            ]
          },
          "metadata": {
            "tags": [],
            "needs_background": "light"
          }
        }
      ]
    },
    {
      "cell_type": "markdown",
      "metadata": {
        "id": "QSbdpY-LlotG"
      },
      "source": [
        "А теперь перейдем к загрузке модели. Если все реализовано правильно, то код ниже должен сработать без ошибок:"
      ]
    },
    {
      "cell_type": "code",
      "metadata": {
        "id": "lUrOvNfPd5B5"
      },
      "source": [
        "restored_model = tf.keras.models.load_model(cpt_path)\n",
        "loss, acc = restored_model.evaluate(x_test, Y_test)\n",
        "print(f\"Accuracy of restored model {acc*100 :.2f}%\")\n",
        "assert acc > 0.96"
      ],
      "execution_count": null,
      "outputs": []
    },
    {
      "cell_type": "markdown",
      "metadata": {
        "id": "F7XFRliomD6b"
      },
      "source": [
        "И, наконец, можно сравнить предсказания с реальными классами (с такой точностью найти ошибку будет сложно):"
      ]
    },
    {
      "cell_type": "code",
      "metadata": {
        "id": "aYXxV5tjY4Xx"
      },
      "source": [
        "predicted_labels = restored_model.predict_classes(x_test)\n",
        "idxs = np.random.choice(np.arange(len(x_test)), 16, replace=False)\n",
        "show_mnist(x_test[idxs].reshape((-1, 28, 28)), y_test[idxs], predicted_labels[idxs])"
      ],
      "execution_count": null,
      "outputs": []
    },
    {
      "cell_type": "code",
      "metadata": {
        "id": "DEoFDB86Xt0v",
        "colab": {
          "base_uri": "https://localhost:8080/"
        },
        "outputId": "e6fc8c6b-4819-4bc9-bb00-3aa4cebe15d7"
      },
      "source": [
        "history.history"
      ],
      "execution_count": null,
      "outputs": [
        {
          "output_type": "execute_result",
          "data": {
            "text/plain": [
              "{'accuracy': [0.9233666658401489,\n",
              "  0.9715333580970764,\n",
              "  0.9810166954994202,\n",
              "  0.9869166612625122,\n",
              "  0.9907833337783813,\n",
              "  0.9930833578109741,\n",
              "  0.9945833086967468,\n",
              "  0.9964666962623596,\n",
              "  0.9977333545684814,\n",
              "  0.9969499707221985,\n",
              "  0.9963833093643188,\n",
              "  0.9955833554267883,\n",
              "  0.997783362865448,\n",
              "  0.9981333613395691,\n",
              "  0.996150016784668,\n",
              "  0.996916651725769,\n",
              "  0.9975500106811523,\n",
              "  0.9979166388511658,\n",
              "  0.9983999729156494,\n",
              "  0.9997833371162415,\n",
              "  0.9999499917030334,\n",
              "  1.0,\n",
              "  1.0,\n",
              "  1.0,\n",
              "  1.0,\n",
              "  1.0,\n",
              "  1.0,\n",
              "  1.0,\n",
              "  1.0,\n",
              "  1.0,\n",
              "  1.0,\n",
              "  1.0,\n",
              "  1.0,\n",
              "  1.0,\n",
              "  1.0,\n",
              "  1.0,\n",
              "  1.0,\n",
              "  1.0,\n",
              "  1.0,\n",
              "  1.0,\n",
              "  1.0,\n",
              "  1.0,\n",
              "  1.0,\n",
              "  1.0,\n",
              "  1.0,\n",
              "  1.0,\n",
              "  1.0,\n",
              "  1.0,\n",
              "  1.0,\n",
              "  1.0],\n",
              " 'loss': [0.27044108510017395,\n",
              "  0.09576471894979477,\n",
              "  0.061840273439884186,\n",
              "  0.041614942252635956,\n",
              "  0.029739825055003166,\n",
              "  0.021733742207288742,\n",
              "  0.0176448542624712,\n",
              "  0.011693984270095825,\n",
              "  0.008000199683010578,\n",
              "  0.00980931892991066,\n",
              "  0.010427345521748066,\n",
              "  0.012641951441764832,\n",
              "  0.006327222567051649,\n",
              "  0.005888663697987795,\n",
              "  0.011497520841658115,\n",
              "  0.009566043503582478,\n",
              "  0.006751984357833862,\n",
              "  0.006394105963408947,\n",
              "  0.004740986041724682,\n",
              "  0.0009719322551973164,\n",
              "  0.00024436399689875543,\n",
              "  8.243310730904341e-05,\n",
              "  5.187283022678457e-05,\n",
              "  4.144479680689983e-05,\n",
              "  3.480030864011496e-05,\n",
              "  2.9896862542955205e-05,\n",
              "  2.6049230655189604e-05,\n",
              "  2.2845890271128155e-05,\n",
              "  2.0330355255282484e-05,\n",
              "  1.7955941075342707e-05,\n",
              "  1.5948926375131123e-05,\n",
              "  1.4172321243677288e-05,\n",
              "  1.2679761312028859e-05,\n",
              "  1.1438032743171789e-05,\n",
              "  1.0320165529265068e-05,\n",
              "  9.225068424711935e-06,\n",
              "  8.304051334562246e-06,\n",
              "  7.381997875199886e-06,\n",
              "  6.738968295394443e-06,\n",
              "  6.101147846493404e-06,\n",
              "  5.386808425100753e-06,\n",
              "  5.0795829338312615e-06,\n",
              "  4.373860065243207e-06,\n",
              "  3.951912276534131e-06,\n",
              "  3.505516588120372e-06,\n",
              "  3.177094640705036e-06,\n",
              "  2.836551175278146e-06,\n",
              "  2.5322838155261707e-06,\n",
              "  2.3186237285699463e-06,\n",
              "  2.0357733774289954e-06],\n",
              " 'val_accuracy': [0.9645000100135803,\n",
              "  0.9717000126838684,\n",
              "  0.9782999753952026,\n",
              "  0.9768000245094299,\n",
              "  0.9789000153541565,\n",
              "  0.9811999797821045,\n",
              "  0.9801999926567078,\n",
              "  0.9817000031471252,\n",
              "  0.9793999791145325,\n",
              "  0.9785000085830688,\n",
              "  0.98089998960495,\n",
              "  0.9810000061988831,\n",
              "  0.9789999723434448,\n",
              "  0.9753000140190125,\n",
              "  0.9778000116348267,\n",
              "  0.9779999852180481,\n",
              "  0.9814000129699707,\n",
              "  0.9799000024795532,\n",
              "  0.9829000234603882,\n",
              "  0.9839000105857849,\n",
              "  0.9850000143051147,\n",
              "  0.9847000241279602,\n",
              "  0.9850000143051147,\n",
              "  0.9847000241279602,\n",
              "  0.9850999712944031,\n",
              "  0.9847999811172485,\n",
              "  0.9850000143051147,\n",
              "  0.9848999977111816,\n",
              "  0.9847999811172485,\n",
              "  0.9847999811172485,\n",
              "  0.9847999811172485,\n",
              "  0.9848999977111816,\n",
              "  0.9847999811172485,\n",
              "  0.9850000143051147,\n",
              "  0.9848999977111816,\n",
              "  0.9847999811172485,\n",
              "  0.9847999811172485,\n",
              "  0.9851999878883362,\n",
              "  0.9851999878883362,\n",
              "  0.9850000143051147,\n",
              "  0.9850999712944031,\n",
              "  0.9847999811172485,\n",
              "  0.9850000143051147,\n",
              "  0.9850000143051147,\n",
              "  0.9850000143051147,\n",
              "  0.9847999811172485,\n",
              "  0.9847999811172485,\n",
              "  0.9847999811172485,\n",
              "  0.9848999977111816,\n",
              "  0.9847999811172485],\n",
              " 'val_loss': [0.11362895369529724,\n",
              "  0.08750557899475098,\n",
              "  0.07088234275579453,\n",
              "  0.0670834332704544,\n",
              "  0.06465278565883636,\n",
              "  0.06320792436599731,\n",
              "  0.0680585727095604,\n",
              "  0.06556713581085205,\n",
              "  0.07461123168468475,\n",
              "  0.07643982023000717,\n",
              "  0.0774226114153862,\n",
              "  0.07585661858320236,\n",
              "  0.08521246910095215,\n",
              "  0.1158645749092102,\n",
              "  0.0950242355465889,\n",
              "  0.09089131653308868,\n",
              "  0.0870610848069191,\n",
              "  0.09139525890350342,\n",
              "  0.07957460731267929,\n",
              "  0.07686074823141098,\n",
              "  0.077230304479599,\n",
              "  0.07542932033538818,\n",
              "  0.07628826051950455,\n",
              "  0.07664946466684341,\n",
              "  0.0772855207324028,\n",
              "  0.07777175307273865,\n",
              "  0.0785096138715744,\n",
              "  0.07889945805072784,\n",
              "  0.07958906143903732,\n",
              "  0.08015397936105728,\n",
              "  0.08071840554475784,\n",
              "  0.0811362937092781,\n",
              "  0.0817628726363182,\n",
              "  0.0819898173213005,\n",
              "  0.0828244537115097,\n",
              "  0.08341462910175323,\n",
              "  0.08419264853000641,\n",
              "  0.08476681262254715,\n",
              "  0.08580036461353302,\n",
              "  0.08585600554943085,\n",
              "  0.08659633994102478,\n",
              "  0.08722901344299316,\n",
              "  0.08780627697706223,\n",
              "  0.08885255455970764,\n",
              "  0.08952188491821289,\n",
              "  0.08979172259569168,\n",
              "  0.09077871590852737,\n",
              "  0.09162427484989166,\n",
              "  0.09184063971042633,\n",
              "  0.09258361160755157]}"
            ]
          },
          "metadata": {
            "tags": []
          },
          "execution_count": 12
        }
      ]
    },
    {
      "cell_type": "code",
      "metadata": {
        "id": "MXZ_jXhKN3Oi"
      },
      "source": [
        ""
      ],
      "execution_count": null,
      "outputs": []
    }
  ]
}