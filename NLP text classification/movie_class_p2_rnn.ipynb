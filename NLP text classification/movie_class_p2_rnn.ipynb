{
  "nbformat": 4,
  "nbformat_minor": 0,
  "metadata": {
    "colab": {
      "name": "Untitled0.ipynb",
      "provenance": [],
      "collapsed_sections": []
    },
    "kernelspec": {
      "name": "python3",
      "display_name": "Python 3"
    },
    "language_info": {
      "name": "python"
    },
    "accelerator": "GPU"
  },
  "cells": [
    {
      "cell_type": "code",
      "metadata": {
        "colab": {
          "base_uri": "https://localhost:8080/"
        },
        "id": "Qtmu_SLagTab",
        "outputId": "0ae025ed-a52a-4973-8d86-218e78023af7"
      },
      "source": [
        "import numpy as np\n",
        "import tensorflow as tf\n",
        "print(tf.__version__)\n",
        "\n",
        "import matplotlib.pyplot as plt\n",
        "%matplotlib inline"
      ],
      "execution_count": null,
      "outputs": [
        {
          "output_type": "stream",
          "text": [
            "2.4.1\n"
          ],
          "name": "stdout"
        }
      ]
    },
    {
      "cell_type": "code",
      "metadata": {
        "id": "aMVf04A3hqMS"
      },
      "source": [
        "import pandas as pd\n",
        "\n",
        "train_data = pd.read_csv('/content/train_data.txt', delimiter=\"\\t\", header=None, sep=\" ::: \", names=['ID','TITLE', 'GENRE','DESCRIPTION'])\n",
        "train_data = pd.DataFrame(train_data[\"ID\"].str.split(' ::: ').tolist())\n",
        "train_data.columns = ['ID','TITLE', 'GENRE','DESCRIPTION']"
      ],
      "execution_count": null,
      "outputs": []
    },
    {
      "cell_type": "code",
      "metadata": {
        "id": "4jjUPMPFgaYS"
      },
      "source": [
        "train_data = train_data.drop(['ID', \"TITLE\"], axis=1)"
      ],
      "execution_count": null,
      "outputs": []
    },
    {
      "cell_type": "code",
      "metadata": {
        "id": "GA0PhZ23gfea"
      },
      "source": [
        "test_data = pd.read_csv('/content/test_data.txt', delimiter=\"\\t\", header=None, sep=\" ::: \", names=['ID','TITLE', 'GENRE','DESCRIPTION'])\n",
        "test_data = pd.DataFrame(test_data[\"ID\"].str.split(' ::: ').tolist())\n",
        "test_data.columns = ['ID','TITLE','DESCRIPTION']"
      ],
      "execution_count": null,
      "outputs": []
    },
    {
      "cell_type": "code",
      "metadata": {
        "colab": {
          "base_uri": "https://localhost:8080/",
          "height": 419
        },
        "id": "wk_yuwd5gmTZ",
        "outputId": "33f015f7-df75-4ee6-d338-67850b24864c"
      },
      "source": [
        "test_data = test_data.drop(['ID'], axis=1)\n",
        "test_data"
      ],
      "execution_count": null,
      "outputs": [
        {
          "output_type": "execute_result",
          "data": {
            "text/html": [
              "<div>\n",
              "<style scoped>\n",
              "    .dataframe tbody tr th:only-of-type {\n",
              "        vertical-align: middle;\n",
              "    }\n",
              "\n",
              "    .dataframe tbody tr th {\n",
              "        vertical-align: top;\n",
              "    }\n",
              "\n",
              "    .dataframe thead th {\n",
              "        text-align: right;\n",
              "    }\n",
              "</style>\n",
              "<table border=\"1\" class=\"dataframe\">\n",
              "  <thead>\n",
              "    <tr style=\"text-align: right;\">\n",
              "      <th></th>\n",
              "      <th>TITLE</th>\n",
              "      <th>DESCRIPTION</th>\n",
              "    </tr>\n",
              "  </thead>\n",
              "  <tbody>\n",
              "    <tr>\n",
              "      <th>0</th>\n",
              "      <td>Edgar's Lunch (1998)</td>\n",
              "      <td>L.R. Brane loves his life - his car, his apart...</td>\n",
              "    </tr>\n",
              "    <tr>\n",
              "      <th>1</th>\n",
              "      <td>La guerra de papá (1977)</td>\n",
              "      <td>Spain, March 1964: Quico is a very naughty chi...</td>\n",
              "    </tr>\n",
              "    <tr>\n",
              "      <th>2</th>\n",
              "      <td>Off the Beaten Track (2010)</td>\n",
              "      <td>One year in the life of Albin and his family o...</td>\n",
              "    </tr>\n",
              "    <tr>\n",
              "      <th>3</th>\n",
              "      <td>Meu Amigo Hindu (2015)</td>\n",
              "      <td>His father has died, he hasn't spoken with his...</td>\n",
              "    </tr>\n",
              "    <tr>\n",
              "      <th>4</th>\n",
              "      <td>Er nu zhai (1955)</td>\n",
              "      <td>Before he was known internationally as a marti...</td>\n",
              "    </tr>\n",
              "    <tr>\n",
              "      <th>...</th>\n",
              "      <td>...</td>\n",
              "      <td>...</td>\n",
              "    </tr>\n",
              "    <tr>\n",
              "      <th>54195</th>\n",
              "      <td>\"Tales of Light &amp; Dark\" (2013)</td>\n",
              "      <td>Covering multiple genres, Tales of Light &amp; Dar...</td>\n",
              "    </tr>\n",
              "    <tr>\n",
              "      <th>54196</th>\n",
              "      <td>Der letzte Mohikaner (1965)</td>\n",
              "      <td>As Alice and Cora Munro attempt to find their ...</td>\n",
              "    </tr>\n",
              "    <tr>\n",
              "      <th>54197</th>\n",
              "      <td>Oliver Twink (2007)</td>\n",
              "      <td>A movie 169 years in the making. Oliver Twist,...</td>\n",
              "    </tr>\n",
              "    <tr>\n",
              "      <th>54198</th>\n",
              "      <td>Slipstream (1973)</td>\n",
              "      <td>Popular, but mysterious rock D.J Mike Mallard ...</td>\n",
              "    </tr>\n",
              "    <tr>\n",
              "      <th>54199</th>\n",
              "      <td>Curitiba Zero Grau (2010)</td>\n",
              "      <td>Curitiba is a city in movement, with rhythms a...</td>\n",
              "    </tr>\n",
              "  </tbody>\n",
              "</table>\n",
              "<p>54200 rows × 2 columns</p>\n",
              "</div>"
            ],
            "text/plain": [
              "                                TITLE                                        DESCRIPTION\n",
              "0                Edgar's Lunch (1998)  L.R. Brane loves his life - his car, his apart...\n",
              "1            La guerra de papá (1977)  Spain, March 1964: Quico is a very naughty chi...\n",
              "2         Off the Beaten Track (2010)  One year in the life of Albin and his family o...\n",
              "3              Meu Amigo Hindu (2015)  His father has died, he hasn't spoken with his...\n",
              "4                   Er nu zhai (1955)  Before he was known internationally as a marti...\n",
              "...                               ...                                                ...\n",
              "54195  \"Tales of Light & Dark\" (2013)  Covering multiple genres, Tales of Light & Dar...\n",
              "54196     Der letzte Mohikaner (1965)  As Alice and Cora Munro attempt to find their ...\n",
              "54197             Oliver Twink (2007)  A movie 169 years in the making. Oliver Twist,...\n",
              "54198               Slipstream (1973)  Popular, but mysterious rock D.J Mike Mallard ...\n",
              "54199       Curitiba Zero Grau (2010)  Curitiba is a city in movement, with rhythms a...\n",
              "\n",
              "[54200 rows x 2 columns]"
            ]
          },
          "metadata": {
            "tags": []
          },
          "execution_count": 5
        }
      ]
    },
    {
      "cell_type": "code",
      "metadata": {
        "id": "OVZgdOCH84_B"
      },
      "source": [
        "# первый вариант препроцессинга\n",
        "\n",
        "from tensorflow.keras.preprocessing.text import Tokenizer\n",
        "from keras.preprocessing import sequence\n",
        "\n",
        "train2 = train_data['DESCRIPTION'].values\n",
        "\n",
        "tokenize = Tokenizer(num_words = 10000)\n",
        "tokenize.fit_on_texts(train2)\n",
        "\n",
        "sequences = tokenize.texts_to_sequences(train_data['DESCRIPTION'])\n",
        "sequences_matrix = sequence.pad_sequences(sequences,maxlen=150)"
      ],
      "execution_count": null,
      "outputs": []
    },
    {
      "cell_type": "code",
      "metadata": {
        "colab": {
          "base_uri": "https://localhost:8080/"
        },
        "id": "gW0UC6k8gpzu",
        "outputId": "e7c623a5-848b-45ba-dc6e-c44c19c7bfe8"
      },
      "source": [
        "# второй вариант препроцессинга\n",
        "\n",
        "import re\n",
        "import string\n",
        "import nltk\n",
        "nltk.download('stopwords')\n",
        "nltk.download('punkt')\n",
        "from nltk.corpus import stopwords\n",
        "\n",
        "\n",
        "\n",
        "REPLACE_BY_SPACE_RE = re.compile('[/(){}\\[\\]\\|@,;]')\n",
        "BAD_SYMBOLS_RE = re.compile('[^0-9a-z #+_]')\n",
        "REMOVE_NUM = re.compile('[\\d+]')\n",
        "STOPWORDS = set(stopwords.words('english'))\n",
        "\n",
        "def clean_text(text):\n",
        "\n",
        "    text = text.lower() \n",
        "\n",
        "    text = '<START>' + text\n",
        "\n",
        "    text = REPLACE_BY_SPACE_RE.sub(' ', text) \n",
        "\n",
        "    text = text.replace('x', '') \n",
        "    \n",
        "    text = REMOVE_NUM.sub('', text)\n",
        "\n",
        "    text = BAD_SYMBOLS_RE.sub('', text) \n",
        "\n",
        "    text = ' '.join(word for word in text.split() if word not in STOPWORDS) \n",
        "    \n",
        "    text = ' '.join([word for word in text.split() if word not in string.punctuation])\n",
        "\n",
        "    #text = ' '.join([stemmer.stem(word) for word in text.split()])\n",
        "\n",
        "    return text\n",
        "\n",
        "train_data['TOKENS'] = train_data['DESCRIPTION'].apply(clean_text)\n",
        "\n",
        "train = train_data['TOKENS'].values"
      ],
      "execution_count": null,
      "outputs": [
        {
          "output_type": "stream",
          "text": [
            "[nltk_data] Downloading package stopwords to /root/nltk_data...\n",
            "[nltk_data]   Unzipping corpora/stopwords.zip.\n",
            "[nltk_data] Downloading package punkt to /root/nltk_data...\n",
            "[nltk_data]   Unzipping tokenizers/punkt.zip.\n"
          ],
          "name": "stdout"
        }
      ]
    },
    {
      "cell_type": "code",
      "metadata": {
        "id": "WTkTPUkzgyJV"
      },
      "source": [
        "from keras.preprocessing.text import Tokenizer\n",
        "from keras.preprocessing.sequence import pad_sequences\n",
        "\n",
        "MAX_LEN = 20000\n",
        "\n",
        "tokenizer = Tokenizer(num_words=MAX_LEN, lower=True, oov_token='<OOV>')\n",
        "tokenizer.fit_on_texts(train)\n",
        "sequences = tokenizer.texts_to_sequences(train)\n",
        "x = pad_sequences(sequences, padding='post', maxlen=150)"
      ],
      "execution_count": null,
      "outputs": []
    },
    {
      "cell_type": "code",
      "metadata": {
        "id": "sPNbjMRmRiVR"
      },
      "source": [
        "test_data['sequences'] = tokenizer.texts_to_sequences(test_data['DESCRIPTION'])"
      ],
      "execution_count": null,
      "outputs": []
    },
    {
      "cell_type": "code",
      "metadata": {
        "colab": {
          "base_uri": "https://localhost:8080/",
          "height": 419
        },
        "id": "oRo3LBtIR9Kk",
        "outputId": "219291f6-b78e-465c-f433-85d6d18b5360"
      },
      "source": [
        "test_data"
      ],
      "execution_count": null,
      "outputs": [
        {
          "output_type": "execute_result",
          "data": {
            "text/html": [
              "<div>\n",
              "<style scoped>\n",
              "    .dataframe tbody tr th:only-of-type {\n",
              "        vertical-align: middle;\n",
              "    }\n",
              "\n",
              "    .dataframe tbody tr th {\n",
              "        vertical-align: top;\n",
              "    }\n",
              "\n",
              "    .dataframe thead th {\n",
              "        text-align: right;\n",
              "    }\n",
              "</style>\n",
              "<table border=\"1\" class=\"dataframe\">\n",
              "  <thead>\n",
              "    <tr style=\"text-align: right;\">\n",
              "      <th></th>\n",
              "      <th>TITLE</th>\n",
              "      <th>DESCRIPTION</th>\n",
              "      <th>sequences</th>\n",
              "    </tr>\n",
              "  </thead>\n",
              "  <tbody>\n",
              "    <tr>\n",
              "      <th>0</th>\n",
              "      <td>Edgar's Lunch (1998)</td>\n",
              "      <td>L.R. Brane loves his life - his car, his apart...</td>\n",
              "      <td>[4657, 4349, 1, 535, 1, 2, 1, 223, 1, 544, 1, ...</td>\n",
              "    </tr>\n",
              "    <tr>\n",
              "      <th>1</th>\n",
              "      <td>La guerra de papá (1977)</td>\n",
              "      <td>Spain, March 1964: Quico is a very naughty chi...</td>\n",
              "      <td>[1780, 1753, 1, 1, 1, 1, 1, 9168, 148, 1, 37, ...</td>\n",
              "    </tr>\n",
              "    <tr>\n",
              "      <th>2</th>\n",
              "      <td>Off the Beaten Track (2010)</td>\n",
              "      <td>One year in the life of Albin and his family o...</td>\n",
              "      <td>[3, 59, 1, 8702, 2, 1, 1, 1, 1, 11, 1, 12897, ...</td>\n",
              "    </tr>\n",
              "    <tr>\n",
              "      <th>3</th>\n",
              "      <td>Meu Amigo Hindu (2015)</td>\n",
              "      <td>His father has died, he hasn't spoken with his...</td>\n",
              "      <td>[1, 23, 1, 566, 1, 1, 4127, 1, 1, 112, 1, 1, 1...</td>\n",
              "    </tr>\n",
              "    <tr>\n",
              "      <th>4</th>\n",
              "      <td>Er nu zhai (1955)</td>\n",
              "      <td>Before he was known internationally as a marti...</td>\n",
              "      <td>[1, 1, 1, 182, 4338, 1, 1, 2092, 1040, 3547, 3...</td>\n",
              "    </tr>\n",
              "    <tr>\n",
              "      <th>...</th>\n",
              "      <td>...</td>\n",
              "      <td>...</td>\n",
              "      <td>...</td>\n",
              "    </tr>\n",
              "    <tr>\n",
              "      <th>54195</th>\n",
              "      <td>\"Tales of Light &amp; Dark\" (2013)</td>\n",
              "      <td>Covering multiple genres, Tales of Light &amp; Dar...</td>\n",
              "      <td>[3708, 1783, 5843, 1583, 1, 444, 230, 1, 1, 59...</td>\n",
              "    </tr>\n",
              "    <tr>\n",
              "      <th>54196</th>\n",
              "      <td>Der letzte Mohikaner (1965)</td>\n",
              "      <td>As Alice and Cora Munro attempt to find their ...</td>\n",
              "      <td>[1, 1602, 1, 8531, 1, 393, 1, 16, 1, 23, 1, 56...</td>\n",
              "    </tr>\n",
              "    <tr>\n",
              "      <th>54197</th>\n",
              "      <td>Oliver Twink (2007)</td>\n",
              "      <td>A movie 169 years in the making. Oliver Twist,...</td>\n",
              "      <td>[1, 97, 1, 14, 1, 8702, 179, 3241, 2031, 8702,...</td>\n",
              "    </tr>\n",
              "    <tr>\n",
              "      <th>54198</th>\n",
              "      <td>Slipstream (1973)</td>\n",
              "      <td>Popular, but mysterious rock D.J Mike Mallard ...</td>\n",
              "      <td>[451, 1, 224, 409, 1, 2807, 855, 1, 1, 1, 8799...</td>\n",
              "    </tr>\n",
              "    <tr>\n",
              "      <th>54199</th>\n",
              "      <td>Curitiba Zero Grau (2010)</td>\n",
              "      <td>Curitiba is a city in movement, with rhythms a...</td>\n",
              "      <td>[1, 1, 1, 42, 1, 681, 1, 8193, 1, 90, 1, 1, 12...</td>\n",
              "    </tr>\n",
              "  </tbody>\n",
              "</table>\n",
              "<p>54200 rows × 3 columns</p>\n",
              "</div>"
            ],
            "text/plain": [
              "                                TITLE  ...                                          sequences\n",
              "0                Edgar's Lunch (1998)  ...  [4657, 4349, 1, 535, 1, 2, 1, 223, 1, 544, 1, ...\n",
              "1            La guerra de papá (1977)  ...  [1780, 1753, 1, 1, 1, 1, 1, 9168, 148, 1, 37, ...\n",
              "2         Off the Beaten Track (2010)  ...  [3, 59, 1, 8702, 2, 1, 1, 1, 1, 11, 1, 12897, ...\n",
              "3              Meu Amigo Hindu (2015)  ...  [1, 23, 1, 566, 1, 1, 4127, 1, 1, 112, 1, 1, 1...\n",
              "4                   Er nu zhai (1955)  ...  [1, 1, 1, 182, 4338, 1, 1, 2092, 1040, 3547, 3...\n",
              "...                               ...  ...                                                ...\n",
              "54195  \"Tales of Light & Dark\" (2013)  ...  [3708, 1783, 5843, 1583, 1, 444, 230, 1, 1, 59...\n",
              "54196     Der letzte Mohikaner (1965)  ...  [1, 1602, 1, 8531, 1, 393, 1, 16, 1, 23, 1, 56...\n",
              "54197             Oliver Twink (2007)  ...  [1, 97, 1, 14, 1, 8702, 179, 3241, 2031, 8702,...\n",
              "54198               Slipstream (1973)  ...  [451, 1, 224, 409, 1, 2807, 855, 1, 1, 1, 8799...\n",
              "54199       Curitiba Zero Grau (2010)  ...  [1, 1, 1, 42, 1, 681, 1, 8193, 1, 90, 1, 1, 12...\n",
              "\n",
              "[54200 rows x 3 columns]"
            ]
          },
          "metadata": {
            "tags": []
          },
          "execution_count": 16
        }
      ]
    },
    {
      "cell_type": "code",
      "metadata": {
        "colab": {
          "base_uri": "https://localhost:8080/"
        },
        "id": "A44Gz653g9ee",
        "outputId": "85ca20aa-27eb-4ebd-a9cd-f37ca34715e7"
      },
      "source": [
        "from sklearn import preprocessing\n",
        "le = preprocessing.LabelEncoder()\n",
        "\n",
        "train_data['GENRE'] = le.fit_transform(train_data['GENRE'])\n",
        "train_labels = tf.convert_to_tensor(train_data['GENRE'].values)\n",
        "\n",
        "train_labels"
      ],
      "execution_count": null,
      "outputs": [
        {
          "output_type": "execute_result",
          "data": {
            "text/plain": [
              "<tf.Tensor: shape=(54214,), dtype=int64, numpy=array([ 8, 24,  1, ...,  7,  5, 12])>"
            ]
          },
          "metadata": {
            "tags": []
          },
          "execution_count": 9
        }
      ]
    },
    {
      "cell_type": "code",
      "metadata": {
        "colab": {
          "base_uri": "https://localhost:8080/"
        },
        "id": "gEKB5YZuhDoZ",
        "outputId": "fe87c789-81ca-400f-bbc1-2a623a069d3b"
      },
      "source": [
        "EMB_SIZE = 32\n",
        "    \n",
        "model = tf.keras.Sequential([\n",
        "                             \n",
        "    tf.keras.layers.Embedding(20000, EMB_SIZE, input_length=150),\n",
        "\n",
        "    tf.keras.layers.Bidirectional(tf.keras.layers.LSTM(128)),  \n",
        "\n",
        "    tf.keras.layers.Dropout(0.5),\n",
        "\n",
        "    tf.keras.layers.Dense(64, activation=tf.nn.relu),\n",
        "    \n",
        "    tf.keras.layers.Dropout(0.5),\n",
        "\n",
        "    tf.keras.layers.Dense(27, activation=tf.nn.softmax), # меняю на sigmoid для one-hot лейблов , \n",
        "\n",
        "])\n",
        "\n",
        "model.summary()"
      ],
      "execution_count": null,
      "outputs": [
        {
          "output_type": "stream",
          "text": [
            "Model: \"sequential\"\n",
            "_________________________________________________________________\n",
            "Layer (type)                 Output Shape              Param #   \n",
            "=================================================================\n",
            "embedding (Embedding)        (None, 150, 32)           640000    \n",
            "_________________________________________________________________\n",
            "bidirectional (Bidirectional (None, 256)               164864    \n",
            "_________________________________________________________________\n",
            "dropout (Dropout)            (None, 256)               0         \n",
            "_________________________________________________________________\n",
            "dense (Dense)                (None, 64)                16448     \n",
            "_________________________________________________________________\n",
            "dropout_1 (Dropout)          (None, 64)                0         \n",
            "_________________________________________________________________\n",
            "dense_1 (Dense)              (None, 27)                1755      \n",
            "=================================================================\n",
            "Total params: 823,067\n",
            "Trainable params: 823,067\n",
            "Non-trainable params: 0\n",
            "_________________________________________________________________\n"
          ],
          "name": "stdout"
        }
      ]
    },
    {
      "cell_type": "code",
      "metadata": {
        "id": "LmCjyIUXoog_"
      },
      "source": [
        "model.compile(optimizer=tf.keras.optimizers.Adam(lr=0.001, epsilon=1e-07),\n",
        "              loss='sparse_categorical_crossentropy', \n",
        "              metrics=['accuracy'])\n",
        "\n",
        "x_val = x[:8000]\n",
        "partial_x_train = x[8000:]\n",
        "y_val = train_labels[:8000]\n",
        "partial_y_train = train_labels[8000:]"
      ],
      "execution_count": null,
      "outputs": []
    },
    {
      "cell_type": "code",
      "metadata": {
        "colab": {
          "base_uri": "https://localhost:8080/"
        },
        "id": "qyw4Bcuroz8d",
        "outputId": "31082c2b-d7c5-468e-fae1-8730cb486c7c"
      },
      "source": [
        "BATCH_SIZE = 512\n",
        "NUM_EPOCHS = 20\n",
        "\n",
        "\n",
        "history = model.fit(partial_x_train,\n",
        "                    partial_y_train,\n",
        "                    epochs=NUM_EPOCHS,\n",
        "                    batch_size=BATCH_SIZE,\n",
        "                    validation_data=(x_val, y_val),\n",
        " #                   callbacks=[tensorboard_callback],\n",
        "                    verbose=1)"
      ],
      "execution_count": null,
      "outputs": [
        {
          "output_type": "stream",
          "text": [
            "Epoch 1/20\n",
            "91/91 [==============================] - 47s 164ms/step - loss: 2.8673 - accuracy: 0.1898 - val_loss: 2.2542 - val_accuracy: 0.3594\n",
            "Epoch 2/20\n",
            "91/91 [==============================] - 14s 151ms/step - loss: 2.2313 - accuracy: 0.3082 - val_loss: 1.9079 - val_accuracy: 0.4532\n",
            "Epoch 3/20\n",
            "91/91 [==============================] - 14s 151ms/step - loss: 1.8293 - accuracy: 0.4797 - val_loss: 1.8455 - val_accuracy: 0.4594\n",
            "Epoch 4/20\n",
            "91/91 [==============================] - 14s 152ms/step - loss: 1.6732 - accuracy: 0.5108 - val_loss: 1.8750 - val_accuracy: 0.4636\n",
            "Epoch 5/20\n",
            "91/91 [==============================] - 14s 152ms/step - loss: 1.5708 - accuracy: 0.5418 - val_loss: 1.8972 - val_accuracy: 0.4544\n",
            "Epoch 6/20\n",
            "91/91 [==============================] - 14s 150ms/step - loss: 1.4789 - accuracy: 0.5659 - val_loss: 1.9301 - val_accuracy: 0.4585\n",
            "Epoch 7/20\n",
            "91/91 [==============================] - 14s 152ms/step - loss: 1.4026 - accuracy: 0.5900 - val_loss: 1.9805 - val_accuracy: 0.4769\n",
            "Epoch 8/20\n",
            "91/91 [==============================] - 14s 152ms/step - loss: 1.3108 - accuracy: 0.6224 - val_loss: 2.0789 - val_accuracy: 0.4779\n",
            "Epoch 9/20\n",
            "91/91 [==============================] - 14s 153ms/step - loss: 1.2212 - accuracy: 0.6432 - val_loss: 2.2327 - val_accuracy: 0.4800\n",
            "Epoch 10/20\n",
            "91/91 [==============================] - 14s 152ms/step - loss: 1.1432 - accuracy: 0.6632 - val_loss: 2.2179 - val_accuracy: 0.4695\n",
            "Epoch 11/20\n",
            "91/91 [==============================] - 14s 152ms/step - loss: 1.0946 - accuracy: 0.6821 - val_loss: 2.4541 - val_accuracy: 0.4796\n",
            "Epoch 12/20\n",
            "91/91 [==============================] - 14s 153ms/step - loss: 1.0418 - accuracy: 0.6956 - val_loss: 2.4830 - val_accuracy: 0.4699\n",
            "Epoch 13/20\n",
            "91/91 [==============================] - 14s 152ms/step - loss: 0.9750 - accuracy: 0.7144 - val_loss: 2.8135 - val_accuracy: 0.4795\n",
            "Epoch 14/20\n",
            "91/91 [==============================] - 14s 153ms/step - loss: 0.9741 - accuracy: 0.7135 - val_loss: 2.7046 - val_accuracy: 0.4725\n",
            "Epoch 15/20\n",
            "91/91 [==============================] - 14s 152ms/step - loss: 0.8830 - accuracy: 0.7405 - val_loss: 2.8900 - val_accuracy: 0.4636\n",
            "Epoch 16/20\n",
            "91/91 [==============================] - 14s 153ms/step - loss: 0.8316 - accuracy: 0.7509 - val_loss: 3.0465 - val_accuracy: 0.4734\n",
            "Epoch 17/20\n",
            "91/91 [==============================] - 14s 152ms/step - loss: 0.8037 - accuracy: 0.7634 - val_loss: 2.6677 - val_accuracy: 0.4634\n",
            "Epoch 18/20\n",
            "91/91 [==============================] - 14s 152ms/step - loss: 0.8188 - accuracy: 0.7604 - val_loss: 3.0551 - val_accuracy: 0.4696\n",
            "Epoch 19/20\n",
            "91/91 [==============================] - 14s 153ms/step - loss: 0.7280 - accuracy: 0.7798 - val_loss: 3.4440 - val_accuracy: 0.4740\n",
            "Epoch 20/20\n",
            "91/91 [==============================] - 14s 151ms/step - loss: 0.6985 - accuracy: 0.7885 - val_loss: 3.4277 - val_accuracy: 0.4667\n"
          ],
          "name": "stdout"
        }
      ]
    }
  ]
}
